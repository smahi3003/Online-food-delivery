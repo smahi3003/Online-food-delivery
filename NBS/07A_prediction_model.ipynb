{
 "cells": [
  {
   "cell_type": "markdown",
   "id": "9933c131",
   "metadata": {},
   "source": [
    "# Online food order predictor\n",
    "by Smahi"
   ]
  },
  {
   "cell_type": "markdown",
   "id": "6f7ce6c3",
   "metadata": {},
   "source": [
    "## Scope\n",
    "- Fit an appropriate ML model and make an online food order predictor."
   ]
  },
  {
   "cell_type": "markdown",
   "id": "84d5fcaa",
   "metadata": {},
   "source": [
    "## Summary\n",
    "- Fitted a random forest model to the dataset.\n",
    "- Cerated new customer details and checked what model predicted.\n",
    "- Accuracy of the model is `0.91`. "
   ]
  },
  {
   "cell_type": "markdown",
   "id": "877a1b1e",
   "metadata": {},
   "source": [
    "## Imports"
   ]
  },
  {
   "cell_type": "code",
   "execution_count": 33,
   "id": "03e44bd1",
   "metadata": {},
   "outputs": [],
   "source": [
    "import pandas as pd\n",
    "import seaborn as sns\n",
    "import matplotlib.pyplot as plt\n",
    "from sklearn.model_selection import train_test_split\n",
    "from sklearn.ensemble import RandomForestClassifier\n",
    "from sklearn.metrics import accuracy_score, classification_report, confusion_matrix\n",
    "from sklearn.preprocessing import OneHotEncoder"
   ]
  },
  {
   "cell_type": "code",
   "execution_count": 2,
   "id": "ffc2e0c6",
   "metadata": {},
   "outputs": [],
   "source": [
    "# Load the dataset\n",
    "df = pd.read_csv('C:/Users/SMAHI/Desktop/Online-food-delivery/Data/clean_data.csv')"
   ]
  },
  {
   "cell_type": "code",
   "execution_count": 3,
   "id": "47b485ae",
   "metadata": {},
   "outputs": [
    {
     "data": {
      "text/html": [
       "<div>\n",
       "<style scoped>\n",
       "    .dataframe tbody tr th:only-of-type {\n",
       "        vertical-align: middle;\n",
       "    }\n",
       "\n",
       "    .dataframe tbody tr th {\n",
       "        vertical-align: top;\n",
       "    }\n",
       "\n",
       "    .dataframe thead th {\n",
       "        text-align: right;\n",
       "    }\n",
       "</style>\n",
       "<table border=\"1\" class=\"dataframe\">\n",
       "  <thead>\n",
       "    <tr style=\"text-align: right;\">\n",
       "      <th></th>\n",
       "      <th>Age</th>\n",
       "      <th>Gender</th>\n",
       "      <th>Marital_status</th>\n",
       "      <th>Occupation</th>\n",
       "      <th>Monthly_income</th>\n",
       "      <th>Education</th>\n",
       "      <th>Family_size</th>\n",
       "      <th>latitude</th>\n",
       "      <th>longitude</th>\n",
       "      <th>Pin_code</th>\n",
       "      <th>Output</th>\n",
       "      <th>Feedback</th>\n",
       "    </tr>\n",
       "  </thead>\n",
       "  <tbody>\n",
       "    <tr>\n",
       "      <th>0</th>\n",
       "      <td>20</td>\n",
       "      <td>Female</td>\n",
       "      <td>Single</td>\n",
       "      <td>Student</td>\n",
       "      <td>No Income</td>\n",
       "      <td>Post Graduate</td>\n",
       "      <td>4</td>\n",
       "      <td>12.9766</td>\n",
       "      <td>77.5993</td>\n",
       "      <td>560001</td>\n",
       "      <td>Yes</td>\n",
       "      <td>Positive</td>\n",
       "    </tr>\n",
       "    <tr>\n",
       "      <th>1</th>\n",
       "      <td>24</td>\n",
       "      <td>Female</td>\n",
       "      <td>Single</td>\n",
       "      <td>Student</td>\n",
       "      <td>Below Rs.10000</td>\n",
       "      <td>Graduate</td>\n",
       "      <td>3</td>\n",
       "      <td>12.9770</td>\n",
       "      <td>77.5773</td>\n",
       "      <td>560009</td>\n",
       "      <td>Yes</td>\n",
       "      <td>Positive</td>\n",
       "    </tr>\n",
       "    <tr>\n",
       "      <th>2</th>\n",
       "      <td>22</td>\n",
       "      <td>Male</td>\n",
       "      <td>Single</td>\n",
       "      <td>Student</td>\n",
       "      <td>Below Rs.10000</td>\n",
       "      <td>Post Graduate</td>\n",
       "      <td>3</td>\n",
       "      <td>12.9551</td>\n",
       "      <td>77.6593</td>\n",
       "      <td>560017</td>\n",
       "      <td>Yes</td>\n",
       "      <td>Negative</td>\n",
       "    </tr>\n",
       "    <tr>\n",
       "      <th>3</th>\n",
       "      <td>22</td>\n",
       "      <td>Female</td>\n",
       "      <td>Single</td>\n",
       "      <td>Student</td>\n",
       "      <td>No Income</td>\n",
       "      <td>Graduate</td>\n",
       "      <td>6</td>\n",
       "      <td>12.9473</td>\n",
       "      <td>77.5616</td>\n",
       "      <td>560019</td>\n",
       "      <td>Yes</td>\n",
       "      <td>Positive</td>\n",
       "    </tr>\n",
       "    <tr>\n",
       "      <th>4</th>\n",
       "      <td>22</td>\n",
       "      <td>Male</td>\n",
       "      <td>Single</td>\n",
       "      <td>Student</td>\n",
       "      <td>Below Rs.10000</td>\n",
       "      <td>Post Graduate</td>\n",
       "      <td>4</td>\n",
       "      <td>12.9850</td>\n",
       "      <td>77.5533</td>\n",
       "      <td>560010</td>\n",
       "      <td>Yes</td>\n",
       "      <td>Positive</td>\n",
       "    </tr>\n",
       "  </tbody>\n",
       "</table>\n",
       "</div>"
      ],
      "text/plain": [
       "   Age  Gender Marital_status Occupation  Monthly_income      Education  \\\n",
       "0   20  Female         Single    Student       No Income  Post Graduate   \n",
       "1   24  Female         Single    Student  Below Rs.10000       Graduate   \n",
       "2   22    Male         Single    Student  Below Rs.10000  Post Graduate   \n",
       "3   22  Female         Single    Student       No Income       Graduate   \n",
       "4   22    Male         Single    Student  Below Rs.10000  Post Graduate   \n",
       "\n",
       "   Family_size  latitude  longitude  Pin_code Output   Feedback  \n",
       "0            4   12.9766    77.5993    560001    Yes   Positive  \n",
       "1            3   12.9770    77.5773    560009    Yes   Positive  \n",
       "2            3   12.9551    77.6593    560017    Yes  Negative   \n",
       "3            6   12.9473    77.5616    560019    Yes   Positive  \n",
       "4            4   12.9850    77.5533    560010    Yes   Positive  "
      ]
     },
     "execution_count": 3,
     "metadata": {},
     "output_type": "execute_result"
    }
   ],
   "source": [
    "# Preview\n",
    "df.head()"
   ]
  },
  {
   "cell_type": "code",
   "execution_count": 4,
   "id": "91af1ae8",
   "metadata": {},
   "outputs": [
    {
     "data": {
      "text/plain": [
       "(388, 12)"
      ]
     },
     "execution_count": 4,
     "metadata": {},
     "output_type": "execute_result"
    }
   ],
   "source": [
    "# Shape\n",
    "df.shape"
   ]
  },
  {
   "cell_type": "code",
   "execution_count": 5,
   "id": "5f6dbebd",
   "metadata": {},
   "outputs": [],
   "source": [
    "# Make 2 different dfs for test and train\n",
    "X = df.drop(['Output'], axis=1)\n",
    "y = df['Output']"
   ]
  },
  {
   "cell_type": "code",
   "execution_count": 6,
   "id": "995264d2",
   "metadata": {},
   "outputs": [],
   "source": [
    "# Convert categorical variables to numerical using one-hot encoding\n",
    "categorical_cols = ['Gender', 'Marital_status', 'Occupation', 'Monthly_income', 'Education', 'Feedback']\n",
    "X_categorical = X[categorical_cols]\n"
   ]
  },
  {
   "cell_type": "code",
   "execution_count": 8,
   "id": "669f656a",
   "metadata": {},
   "outputs": [],
   "source": [
    "# Use OneHotEncoder to convert categorical variables\n",
    "encoder = OneHotEncoder(drop='first', sparse=False)\n",
    "X_encoded = encoder.fit_transform(X_categorical)"
   ]
  },
  {
   "cell_type": "code",
   "execution_count": 10,
   "id": "75d172e4",
   "metadata": {},
   "outputs": [],
   "source": [
    "# Get feature names after one-hot encoding\n",
    "feature_names = list(encoder.get_feature_names(categorical_cols))\n",
    "X_encoded = pd.DataFrame(X_encoded, columns=feature_names)"
   ]
  },
  {
   "cell_type": "code",
   "execution_count": 11,
   "id": "a4004d11",
   "metadata": {},
   "outputs": [],
   "source": [
    "# Combine one-hot encoded features with numerical features\n",
    "X = pd.concat([X.drop(categorical_cols, axis=1), X_encoded], axis=1)"
   ]
  },
  {
   "cell_type": "code",
   "execution_count": 12,
   "id": "14c5e171",
   "metadata": {},
   "outputs": [],
   "source": [
    "# Split the data into training and testing sets\n",
    "X_train, X_test, y_train, y_test = train_test_split(X, y, test_size=0.2, random_state=42)"
   ]
  },
  {
   "cell_type": "code",
   "execution_count": 13,
   "id": "c3804cff",
   "metadata": {},
   "outputs": [],
   "source": [
    "# Initialize the Random Forest model\n",
    "rf_model = RandomForestClassifier(random_state=42)"
   ]
  },
  {
   "cell_type": "code",
   "execution_count": 14,
   "id": "1ee50609",
   "metadata": {},
   "outputs": [
    {
     "data": {
      "text/plain": [
       "RandomForestClassifier(random_state=42)"
      ]
     },
     "execution_count": 14,
     "metadata": {},
     "output_type": "execute_result"
    }
   ],
   "source": [
    "# Train the model\n",
    "rf_model.fit(X_train, y_train)"
   ]
  },
  {
   "cell_type": "code",
   "execution_count": 15,
   "id": "978102a4",
   "metadata": {},
   "outputs": [],
   "source": [
    "# Make predictions on the test set\n",
    "y_pred = rf_model.predict(X_test)"
   ]
  },
  {
   "cell_type": "code",
   "execution_count": 16,
   "id": "daa1e48f",
   "metadata": {},
   "outputs": [],
   "source": [
    "# Evaluate the model\n",
    "accuracy = accuracy_score(y_test, y_pred)\n",
    "conf_matrix = confusion_matrix(y_test, y_pred)\n",
    "classification_rep = classification_report(y_test, y_pred)"
   ]
  },
  {
   "cell_type": "code",
   "execution_count": 17,
   "id": "1a8582c2",
   "metadata": {},
   "outputs": [
    {
     "name": "stdout",
     "output_type": "stream",
     "text": [
      "Accuracy: 0.9103\n",
      "\n",
      "Confusion Matrix:\n",
      "[[ 7  5]\n",
      " [ 2 64]]\n",
      "\n",
      "Classification Report:\n",
      "              precision    recall  f1-score   support\n",
      "\n",
      "          No       0.78      0.58      0.67        12\n",
      "         Yes       0.93      0.97      0.95        66\n",
      "\n",
      "    accuracy                           0.91        78\n",
      "   macro avg       0.85      0.78      0.81        78\n",
      "weighted avg       0.90      0.91      0.90        78\n",
      "\n"
     ]
    }
   ],
   "source": [
    "# Display results\n",
    "print(f\"Accuracy: {accuracy:.4f}\")\n",
    "print(\"\\nConfusion Matrix:\")\n",
    "print(conf_matrix)\n",
    "print(\"\\nClassification Report:\")\n",
    "print(classification_rep)"
   ]
  },
  {
   "cell_type": "code",
   "execution_count": 34,
   "id": "7c310804",
   "metadata": {},
   "outputs": [
    {
     "data": {
      "image/png": "[encoded data removed]",
      "text/plain": [
       "<Figure size 576x432 with 2 Axes>"
      ]
     },
     "metadata": {
      "needs_background": "light"
     },
     "output_type": "display_data"
    }
   ],
   "source": [
    "# Create a heatmap\n",
    "plt.figure(figsize=(8, 6))\n",
    "sns.heatmap(conf_matrix, annot=True, fmt='d', cmap='Blues', xticklabels=['No', 'Yes'], yticklabels=['No', 'Yes'])\n",
    "plt.xlabel('Predicted')\n",
    "plt.ylabel('Actual')\n",
    "plt.title('Confusion Matrix Heatmap')\n",
    "plt.show()"
   ]
  },
  {
   "cell_type": "code",
   "execution_count": 23,
   "id": "563c3fed",
   "metadata": {},
   "outputs": [],
   "source": [
    "# Providing data to make prediction\n",
    "new_customer_details = {\n",
    "    'Age': 22,\n",
    "    'Gender': 'Male',\n",
    "    'Marital_status': 'Single',\n",
    "    'Occupation': 'Student',\n",
    "    'Monthly_income': 'Below Rs.10000',\n",
    "    'Education': 'Graduate',\n",
    "    'Family_size': 3,\n",
    "    'latitude': 12.9656,\n",
    "    'longitude': 77.6101,\n",
    "    'Pin_code': 560010,\n",
    "    'Feedback': 'Positive'\n",
    "}"
   ]
  },
  {
   "cell_type": "code",
   "execution_count": 24,
   "id": "a295626c",
   "metadata": {},
   "outputs": [],
   "source": [
    "# Create a DataFrame with the new customer details\n",
    "new_customer_df = pd.DataFrame([new_customer_details])"
   ]
  },
  {
   "cell_type": "code",
   "execution_count": 25,
   "id": "c717eac3",
   "metadata": {},
   "outputs": [],
   "source": [
    "# Preprocess the input data (similar to the preprocessing steps used during training)\n",
    "new_customer_categorical = new_customer_df[categorical_cols]\n",
    "new_customer_encoded = encoder.transform(new_customer_categorical)\n",
    "new_customer_encoded = pd.DataFrame(new_customer_encoded, columns=feature_names)"
   ]
  },
  {
   "cell_type": "code",
   "execution_count": 26,
   "id": "7e381685",
   "metadata": {},
   "outputs": [],
   "source": [
    "# Combine one-hot encoded features with numerical features\n",
    "new_customer_input = pd.concat([new_customer_df.drop(categorical_cols, axis=1), new_customer_encoded], axis=1)"
   ]
  },
  {
   "cell_type": "code",
   "execution_count": 27,
   "id": "2bd2d408",
   "metadata": {},
   "outputs": [],
   "source": [
    "# Use the trained Random Forest model to make predictions\n",
    "prediction = rf_model.predict(new_customer_input)"
   ]
  },
  {
   "cell_type": "code",
   "execution_count": 30,
   "id": "360088f5",
   "metadata": {},
   "outputs": [
    {
     "name": "stdout",
     "output_type": "stream",
     "text": [
      "The model predicts that the customer is likely to order again:  ['Yes']\n"
     ]
    }
   ],
   "source": [
    "print(\"The model predicts that the customer is likely to order again: \", rf_model.predict(new_customer_input))"
   ]
  }
 ],
 "metadata": {
  "kernelspec": {
   "display_name": "Python 3",
   "language": "python",
   "name": "python3"
  },
  "language_info": {
   "codemirror_mode": {
    "name": "ipython",
    "version": 3
   },
   "file_extension": ".py",
   "mimetype": "text/x-python",
   "name": "python",
   "nbconvert_exporter": "python",
   "pygments_lexer": "ipython3",
   "version": "3.8.8"
  }
 },
 "nbformat": 4,
 "nbformat_minor": 5
}
