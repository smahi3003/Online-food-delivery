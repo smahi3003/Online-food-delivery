{
 "cells": [
  {
   "cell_type": "markdown",
   "id": "1da28adc",
   "metadata": {},
   "source": [
    "# Correlation and Relationship analysis\n",
    "by Smahi"
   ]
  },
  {
   "cell_type": "markdown",
   "id": "8eb9aa7a",
   "metadata": {},
   "source": [
    "## Scope\n",
    "Correlations and Relationships:\n",
    "- a. Is there a correlation between age and monthly income?\n",
    "- b. Do marital status and family size have any relationship?\n",
    "- c. Is there a relationship between educational qualifications and occupation?\n",
    "- d. Are there correlations between the Output (online food orders) and any other variables?"
   ]
  },
  {
   "cell_type": "markdown",
   "id": "51084842",
   "metadata": {},
   "source": [
    "## Summary\n",
    "- There is a positive relationship between `Age` and `Monthly_income`.\n",
    "\n",
    "\n",
    "- Marital status and its relationship with family size.\n",
    "\n",
    "       Married:\n",
    "        - Most individuals who are married have family sizes ranging from 2 to 6.\n",
    "        - The most common family size for married individuals is 3, followed by 2 and 4.\n",
    "\n",
    "       Prefer not to say:\n",
    "        - Individuals who prefer not to disclose their marital status have smaller family sizes.\n",
    "        - The most common family size for this group is 2.\n",
    "\n",
    "       Single:\n",
    "        - Singles have a diverse range of family sizes, but the most common family size is 3, followed by 2 and 4.\n",
    "        - There are more single individuals with larger families (e.g., size 4, 5, 6) compared to the \"Married\" group."
   ]
  },
  {
   "cell_type": "markdown",
   "id": "fce228d0",
   "metadata": {},
   "source": [
    "- Occupation and its relationship with education\n",
    "\n",
    "    **Occupation**\n",
    "    \n",
    "        Employee:\n",
    "        - Most employees have a graduate-level education, with a substantial number having post-graduate qualifications as well.\n",
    "        - There are no employees with only school or uneducated qualification.\n",
    "\n",
    "        Housewife:\n",
    "        - Housewives in this dataset have varying educational backgrounds.\n",
    "        - The majority of housewives have a graduate or post-graduate education.\n",
    "\n",
    "        Self-Employed:\n",
    "        - Self-employed individuals have diverse educational backgrounds.\n",
    "        - A significant number of self-employed individuals have graduate or post-graduate qualifications, but there are also some with school-level education.\n",
    "\n",
    "        Student:\n",
    "        - Students, as expected, are predominantly found in the \"Student\" occupation category.\n",
    "        - Most students have either a graduate or post-graduate education.\n",
    "\n",
    "    **Education**\n",
    "    \n",
    "        Graduate:\n",
    "        - Graduates are spread across various occupations, with a notable presence in employee and student categories.\n",
    "\n",
    "        Ph.D.:\n",
    "        - Individuals with a Ph.D. are mainly employed as employees or students, with a small representation in the self-employed category.\n",
    "\n",
    "        Post Graduate:\n",
    "        - Post-graduates are found in all occupations, with a significant number in the student category.\n",
    "\n",
    "        School:\n",
    "        - Those with a school-level education are only found in the housewife and self-employed categories.\n",
    "\n",
    "        Uneducated:\n",
    "        - Individuals categorized as \"Uneducated\" are found in housewife and self-employed categories, with very small numbers"
   ]
  },
  {
   "cell_type": "markdown",
   "id": "c12423be",
   "metadata": {},
   "source": [
    "- The chi-square tests indicate that \"Feedback,\" \"Marital_status,\" and \"Occupation\" are strongly associated with online food orders (\"Output\"). \n",
    "- The \"Education\" variable also shows some evidence of association, but to a lesser extent. \n",
    "- The \"Gender\" variable, based on the p-value, does not seem to be significantly related to online food orders in this analysis"
   ]
  },
  {
   "cell_type": "markdown",
   "id": "d822b76b",
   "metadata": {},
   "source": [
    "## Imports"
   ]
  },
  {
   "cell_type": "code",
   "execution_count": 14,
   "id": "dfce4f72",
   "metadata": {},
   "outputs": [],
   "source": [
    "import pandas as pd\n",
    "from scipy.stats import chi2_contingency\n",
    "import altair as alt\n",
    "import seaborn as sns\n",
    "import matplotlib.pyplot as plt"
   ]
  },
  {
   "cell_type": "code",
   "execution_count": 2,
   "id": "87613df4",
   "metadata": {},
   "outputs": [],
   "source": [
    "# Load the dataset\n",
    "df = pd.read_csv('C:/Users/SMAHI/Desktop/Online-food-delivery/Data/clean_data.csv')"
   ]
  },
  {
   "cell_type": "code",
   "execution_count": 3,
   "id": "33f044c3",
   "metadata": {},
   "outputs": [
    {
     "data": {
      "text/html": [
       "<div>\n",
       "<style scoped>\n",
       "    .dataframe tbody tr th:only-of-type {\n",
       "        vertical-align: middle;\n",
       "    }\n",
       "\n",
       "    .dataframe tbody tr th {\n",
       "        vertical-align: top;\n",
       "    }\n",
       "\n",
       "    .dataframe thead th {\n",
       "        text-align: right;\n",
       "    }\n",
       "</style>\n",
       "<table border=\"1\" class=\"dataframe\">\n",
       "  <thead>\n",
       "    <tr style=\"text-align: right;\">\n",
       "      <th></th>\n",
       "      <th>Age</th>\n",
       "      <th>Gender</th>\n",
       "      <th>Marital_status</th>\n",
       "      <th>Occupation</th>\n",
       "      <th>Monthly_income</th>\n",
       "      <th>Education</th>\n",
       "      <th>Family_size</th>\n",
       "      <th>latitude</th>\n",
       "      <th>longitude</th>\n",
       "      <th>Pin_code</th>\n",
       "      <th>Output</th>\n",
       "      <th>Feedback</th>\n",
       "    </tr>\n",
       "  </thead>\n",
       "  <tbody>\n",
       "    <tr>\n",
       "      <th>0</th>\n",
       "      <td>20</td>\n",
       "      <td>Female</td>\n",
       "      <td>Single</td>\n",
       "      <td>Student</td>\n",
       "      <td>No Income</td>\n",
       "      <td>Post Graduate</td>\n",
       "      <td>4</td>\n",
       "      <td>12.9766</td>\n",
       "      <td>77.5993</td>\n",
       "      <td>560001</td>\n",
       "      <td>Yes</td>\n",
       "      <td>Positive</td>\n",
       "    </tr>\n",
       "    <tr>\n",
       "      <th>1</th>\n",
       "      <td>24</td>\n",
       "      <td>Female</td>\n",
       "      <td>Single</td>\n",
       "      <td>Student</td>\n",
       "      <td>Below Rs.10000</td>\n",
       "      <td>Graduate</td>\n",
       "      <td>3</td>\n",
       "      <td>12.9770</td>\n",
       "      <td>77.5773</td>\n",
       "      <td>560009</td>\n",
       "      <td>Yes</td>\n",
       "      <td>Positive</td>\n",
       "    </tr>\n",
       "    <tr>\n",
       "      <th>2</th>\n",
       "      <td>22</td>\n",
       "      <td>Male</td>\n",
       "      <td>Single</td>\n",
       "      <td>Student</td>\n",
       "      <td>Below Rs.10000</td>\n",
       "      <td>Post Graduate</td>\n",
       "      <td>3</td>\n",
       "      <td>12.9551</td>\n",
       "      <td>77.6593</td>\n",
       "      <td>560017</td>\n",
       "      <td>Yes</td>\n",
       "      <td>Negative</td>\n",
       "    </tr>\n",
       "    <tr>\n",
       "      <th>3</th>\n",
       "      <td>22</td>\n",
       "      <td>Female</td>\n",
       "      <td>Single</td>\n",
       "      <td>Student</td>\n",
       "      <td>No Income</td>\n",
       "      <td>Graduate</td>\n",
       "      <td>6</td>\n",
       "      <td>12.9473</td>\n",
       "      <td>77.5616</td>\n",
       "      <td>560019</td>\n",
       "      <td>Yes</td>\n",
       "      <td>Positive</td>\n",
       "    </tr>\n",
       "    <tr>\n",
       "      <th>4</th>\n",
       "      <td>22</td>\n",
       "      <td>Male</td>\n",
       "      <td>Single</td>\n",
       "      <td>Student</td>\n",
       "      <td>Below Rs.10000</td>\n",
       "      <td>Post Graduate</td>\n",
       "      <td>4</td>\n",
       "      <td>12.9850</td>\n",
       "      <td>77.5533</td>\n",
       "      <td>560010</td>\n",
       "      <td>Yes</td>\n",
       "      <td>Positive</td>\n",
       "    </tr>\n",
       "  </tbody>\n",
       "</table>\n",
       "</div>"
      ],
      "text/plain": [
       "   Age  Gender Marital_status Occupation  Monthly_income      Education  \\\n",
       "0   20  Female         Single    Student       No Income  Post Graduate   \n",
       "1   24  Female         Single    Student  Below Rs.10000       Graduate   \n",
       "2   22    Male         Single    Student  Below Rs.10000  Post Graduate   \n",
       "3   22  Female         Single    Student       No Income       Graduate   \n",
       "4   22    Male         Single    Student  Below Rs.10000  Post Graduate   \n",
       "\n",
       "   Family_size  latitude  longitude  Pin_code Output   Feedback  \n",
       "0            4   12.9766    77.5993    560001    Yes   Positive  \n",
       "1            3   12.9770    77.5773    560009    Yes   Positive  \n",
       "2            3   12.9551    77.6593    560017    Yes  Negative   \n",
       "3            6   12.9473    77.5616    560019    Yes   Positive  \n",
       "4            4   12.9850    77.5533    560010    Yes   Positive  "
      ]
     },
     "execution_count": 3,
     "metadata": {},
     "output_type": "execute_result"
    }
   ],
   "source": [
    "# Preview\n",
    "df.head()"
   ]
  },
  {
   "cell_type": "code",
   "execution_count": 4,
   "id": "d14f3a2a",
   "metadata": {},
   "outputs": [
    {
     "data": {
      "text/plain": [
       "(388, 12)"
      ]
     },
     "execution_count": 4,
     "metadata": {},
     "output_type": "execute_result"
    }
   ],
   "source": [
    "# Shape\n",
    "df.shape"
   ]
  },
  {
   "cell_type": "markdown",
   "id": "ea9ea139",
   "metadata": {},
   "source": [
    "### a. Is there a correlation between age and monthly income?"
   ]
  },
  {
   "cell_type": "code",
   "execution_count": 5,
   "id": "e5526dca",
   "metadata": {},
   "outputs": [
    {
     "data": {
      "text/plain": [
       "array(['No Income', 'Below Rs.10000', 'More than 50000', '10001 to 25000',\n",
       "       '25001 to 50000'], dtype=object)"
      ]
     },
     "execution_count": 5,
     "metadata": {},
     "output_type": "execute_result"
    }
   ],
   "source": [
    "# Different types of monthly_income\n",
    "df.Monthly_income.unique()"
   ]
  },
  {
   "cell_type": "code",
   "execution_count": 6,
   "id": "e2a9dcb0",
   "metadata": {},
   "outputs": [],
   "source": [
    "# Convert Monthly_income to numerical values for correlation analysis\n",
    "income_mapping = {'No Income': 0, 'Below Rs.10000': 1, 'More than 50000':2, '10001 to 25000':3, '25001 to 50000':4}\n",
    "df['Monthly_income_numeric'] = df['Monthly_income'].map(income_mapping)\n"
   ]
  },
  {
   "cell_type": "code",
   "execution_count": 18,
   "id": "2fdb8014",
   "metadata": {},
   "outputs": [
    {
     "name": "stdout",
     "output_type": "stream",
     "text": [
      "Correlation between age and monthly income: 0.4559379304686674\n"
     ]
    }
   ],
   "source": [
    "age_income_corr = df['Age'].corr(df['Monthly_income_numeric'])\n",
    "print(f\"Correlation between age and monthly income: {age_income_corr}\")"
   ]
  },
  {
   "cell_type": "markdown",
   "id": "bde5f324",
   "metadata": {},
   "source": [
    "The correlation coefficient between age and monthly income is 0.4559. This positive correlation suggests a moderate, positive relationship between age and monthly income in this dataset. "
   ]
  },
  {
   "cell_type": "markdown",
   "id": "ec87a234",
   "metadata": {},
   "source": [
    "### b. Do marital status and family size have any relationship?"
   ]
  },
  {
   "cell_type": "code",
   "execution_count": 25,
   "id": "d06017b5",
   "metadata": {},
   "outputs": [
    {
     "name": "stdout",
     "output_type": "stream",
     "text": [
      "Relationship between marital status and family size:\n",
      "Family_size         1   2   3   4   5   6\n",
      "Marital_status                           \n",
      "Married             5  20  27  16  23  17\n",
      "Prefer not to say   3   4   2   1   2   0\n",
      "Single             16  77  88  46  29  12\n"
     ]
    }
   ],
   "source": [
    "marital_family_relation = pd.crosstab(df['Marital_status'], df['Family_size'])\n",
    "print(f\"Relationship between marital status and family size:\\n{marital_family_relation}\")"
   ]
  },
  {
   "cell_type": "markdown",
   "id": "f24897e3",
   "metadata": {},
   "source": [
    "Married:\n",
    "- Most individuals who are married have family sizes ranging from 2 to 6.\n",
    "- The most common family size for married individuals is 3, followed by 2 and 4.\n",
    "\n",
    "Prefer not to say:\n",
    "- Individuals who prefer not to disclose their marital status have smaller family sizes.\n",
    "- The most common family size for this group is 2.\n",
    "\n",
    "Single:\n",
    "- Singles have a diverse range of family sizes, but the most common family size is 3, followed by 2 and 4.\n",
    "- There are more single individuals with larger families (e.g., size 4, 5, 6) compared to the \"Married\" group."
   ]
  },
  {
   "cell_type": "markdown",
   "id": "a7f1baf9",
   "metadata": {},
   "source": [
    "### c. Is there a relationship between educational qualifications and occupation?"
   ]
  },
  {
   "cell_type": "code",
   "execution_count": 16,
   "id": "d9c7de67",
   "metadata": {},
   "outputs": [
    {
     "name": "stdout",
     "output_type": "stream",
     "text": [
      "Relationship between educational qualifications and occupation:\n",
      "Occupation     Employee  House wife  Self Employeed  Student\n",
      "Education                                                   \n",
      "Graduate             68           3              29       77\n",
      "Ph.D                 12           0               3        8\n",
      "Post Graduate        38           0              14      122\n",
      "School                0           5               7        0\n",
      "Uneducated            0           1               1        0\n"
     ]
    }
   ],
   "source": [
    "edu_occ_relation = pd.crosstab(df['Education'], df['Occupation'])\n",
    "print(f\"Relationship between educational qualifications and occupation:\\n{edu_occ_relation}\")"
   ]
  },
  {
   "cell_type": "markdown",
   "id": "bcccf8d3",
   "metadata": {},
   "source": [
    "**Occupation**:\n",
    "\n",
    "Employee:\n",
    "- Most employees have a graduate-level education, with a substantial number having post-graduate qualifications as well.\n",
    "- There are no employees with only a school or uneducated in this dataset.\n",
    "\n",
    "Housewife:\n",
    "- Housewives in this dataset have varying educational backgrounds.\n",
    "- The majority of housewives have a graduate or post-graduate education.\n",
    "\n",
    "Self-Employed:\n",
    "- Self-employed individuals have diverse educational backgrounds.\n",
    "- A significant number of self-employed individuals have graduate or post-graduate qualifications, but there are also some with school-level education.\n",
    "\n",
    "Student:\n",
    "- Students, as expected, are predominantly found in the \"Student\" occupation category.\n",
    "- Most students have either a graduate or post-graduate education.\n",
    "\n",
    "\n",
    "**Education**:\n",
    "\n",
    "Graduate:\n",
    "- Graduates are spread across various occupations, with a notable presence in employee and student categories.\n",
    "\n",
    "Ph.D.:\n",
    "- Individuals with a Ph.D. are mainly employed as employees or students, with a small representation in the self-employed category.\n",
    "\n",
    "Post Graduate:\n",
    "- Post-graduates are found in all occupations, with a significant number in the student category.\n",
    "\n",
    "School:\n",
    "- Those with a school-level education are only found in the housewife and self-employed categories.\n",
    "\n",
    "Uneducated:\n",
    "- Individuals categorized as \"Uneducated\" are found in housewife and self-employed categories, with very small numbers"
   ]
  },
  {
   "cell_type": "markdown",
   "id": "fe99264a",
   "metadata": {},
   "source": [
    "### d. Are there correlations between the Output (online food orders) and any other variables?"
   ]
  },
  {
   "cell_type": "code",
   "execution_count": 15,
   "id": "692023f1",
   "metadata": {},
   "outputs": [
    {
     "name": "stdout",
     "output_type": "stream",
     "text": [
      "e. Chi-square p-values for independence between Output and other categorical variables:\n",
      "Feedback          1.100291e-30\n",
      "Marital_status    1.358086e-07\n",
      "Occupation        2.378679e-07\n",
      "Education         3.757604e-02\n",
      "Gender            5.751216e-01\n",
      "dtype: float64\n"
     ]
    }
   ],
   "source": [
    "categorical_variables = ['Gender', 'Marital_status', 'Occupation', 'Education', 'Feedback']\n",
    "\n",
    "output_corr = {}\n",
    "for variable in categorical_variables:\n",
    "    contingency_table = pd.crosstab(df['Output'], df[variable])\n",
    "    chi2, p, _, _ = chi2_contingency(contingency_table)\n",
    "    output_corr[variable] = p\n",
    "\n",
    "output_corr = pd.Series(output_corr).sort_values()\n",
    "print(f\"Chi-square p-values for independence between Output and other categorical variables:\\n{output_corr}\")"
   ]
  },
  {
   "cell_type": "markdown",
   "id": "e66042a3",
   "metadata": {},
   "source": [
    "**Null Hypothesis - Other categorical variables are independent to Output variable.**\n",
    "- The chi-square tests indicate that \"Feedback,\" \"Marital_status,\" and \"Occupation\" are strongly associated with online food orders (\"Output\"). \n",
    "- The \"Education\" variable also shows some evidence of association, but to a lesser extent. \n",
    "- The \"Gender\" variable, based on the p-value, does not seem to be significantly related to online food orders in this analysis"
   ]
  }
 ],
 "metadata": {
  "kernelspec": {
   "display_name": "Python 3",
   "language": "python",
   "name": "python3"
  },
  "language_info": {
   "codemirror_mode": {
    "name": "ipython",
    "version": 3
   },
   "file_extension": ".py",
   "mimetype": "text/x-python",
   "name": "python",
   "nbconvert_exporter": "python",
   "pygments_lexer": "ipython3",
   "version": "3.8.8"
  }
 },
 "nbformat": 4,
 "nbformat_minor": 5
}
